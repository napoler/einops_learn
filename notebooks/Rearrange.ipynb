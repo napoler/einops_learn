{
 "cells": [
  {
   "cell_type": "markdown",
   "metadata": {},
   "source": [
    "# Rearrange 测试\n",
    "文档来自于\n",
    "\n",
    "https://einops.rocks/"
   ]
  },
  {
   "cell_type": "markdown",
   "metadata": {},
   "source": [
    "导入模块\n",
    "\n",
    "Example of using layers within a model:"
   ]
  },
  {
   "cell_type": "code",
   "execution_count": 6,
   "metadata": {},
   "outputs": [],
   "source": [
    "# example given for pytorch, but code in other frameworks is almost identical  \n",
    "from torch.nn import Sequential, Conv2d, MaxPool2d, Linear, ReLU\n",
    "from einops.layers.torch import Rearrange\n",
    "\n",
    "model = Sequential(\n",
    "    Conv2d(3, 6, kernel_size=5),\n",
    "    MaxPool2d(kernel_size=2),\n",
    "    Conv2d(6, 16, kernel_size=5),\n",
    "    MaxPool2d(kernel_size=2),\n",
    "    # flattening\n",
    "    Rearrange('b c h w -> b (c h w)'),  \n",
    "    Linear(16*5*5, 120), \n",
    "    ReLU(),\n",
    "    Linear(120, 10), \n",
    ")\n",
    "\n"
   ]
  },
  {
   "cell_type": "markdown",
   "metadata": {},
   "source": [
    "模型结构如下"
   ]
  },
  {
   "cell_type": "code",
   "execution_count": 7,
   "metadata": {},
   "outputs": [
    {
     "name": "stdout",
     "output_type": "stream",
     "text": [
      "Sequential(\n",
      "  (0): Conv2d(3, 6, kernel_size=(5, 5), stride=(1, 1))\n",
      "  (1): MaxPool2d(kernel_size=2, stride=2, padding=0, dilation=1, ceil_mode=False)\n",
      "  (2): Conv2d(6, 16, kernel_size=(5, 5), stride=(1, 1))\n",
      "  (3): MaxPool2d(kernel_size=2, stride=2, padding=0, dilation=1, ceil_mode=False)\n",
      "  (4): Rearrange('b c h w -> b (c h w)')\n",
      "  (5): Linear(in_features=400, out_features=120, bias=True)\n",
      "  (6): ReLU()\n",
      "  (7): Linear(in_features=120, out_features=10, bias=True)\n",
      ")\n"
     ]
    }
   ],
   "source": [
    "print(model)"
   ]
  },
  {
   "cell_type": "markdown",
   "metadata": {},
   "source": [
    "\n",
    "用于改变数据形状，和view有着一样的效果\n",
    "\n",
    "```python\n",
    "\n",
    "y = x.view(x.shape[0], -1) # x: (batch, 256, 19, 19)\n",
    "y = rearrange(x, 'b c h w -> b (c h w)')\n",
    "```"
   ]
  },
  {
   "cell_type": "code",
   "execution_count": 12,
   "metadata": {},
   "outputs": [
    {
     "data": {
      "text/plain": [
       "torch.Size([2, 3, 4, 5])"
      ]
     },
     "execution_count": 12,
     "metadata": {},
     "output_type": "execute_result"
    }
   ],
   "source": [
    "import torch\n",
    "from einops import rearrange, reduce, repeat\n",
    "x=torch.rand((2,3,4,5))\n",
    "x.size()"
   ]
  },
  {
   "cell_type": "code",
   "execution_count": 13,
   "metadata": {},
   "outputs": [
    {
     "name": "stdout",
     "output_type": "stream",
     "text": [
      "torch.Size([2, 60])\n",
      "torch.Size([2, 60])\n"
     ]
    }
   ],
   "source": [
    "y = x.view(x.shape[0], -1) # x: (batch, 256, 19, 19)\n",
    "print(y.size())\n",
    "y = rearrange(x, 'b c h w -> b (c h w)')\n",
    "print(y.size())"
   ]
  }
 ],
 "metadata": {
  "interpreter": {
   "hash": "580d8e589cc042bc6662baf722e4293a13cc30670d4bfd2c7d29df25997b2cc8"
  },
  "kernelspec": {
   "display_name": "Python 3.7.11 64-bit ('einopsDemo': conda)",
   "language": "python",
   "name": "python3"
  },
  "language_info": {
   "codemirror_mode": {
    "name": "ipython",
    "version": 3
   },
   "file_extension": ".py",
   "mimetype": "text/x-python",
   "name": "python",
   "nbconvert_exporter": "python",
   "pygments_lexer": "ipython3",
   "version": "3.7.11"
  },
  "orig_nbformat": 4
 },
 "nbformat": 4,
 "nbformat_minor": 2
}
